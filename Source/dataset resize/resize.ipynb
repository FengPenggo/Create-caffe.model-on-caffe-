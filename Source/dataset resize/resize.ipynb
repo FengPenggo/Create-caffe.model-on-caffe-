{
 "cells": [
  {
   "cell_type": "code",
   "execution_count": 15,
   "metadata": {},
   "outputs": [],
   "source": [
    "import os\n",
    "import cv2\n",
    "#''' 设置图片路径，该路径下包含了14张jpg格式的照片，名字依次为0.jpg, 1.jpg, 2.jpg,...,14.jpg'''\n",
    "DATADIR=\"val_moto\"\n",
    "#'''设置目标像素大小，此处设为300'''\n",
    "IMG_SIZE=32\n",
    "#'''使用os.path模块的join方法生成路径'''\n",
    "path=os.path.join(DATADIR)\n",
    "##'''使用os.listdir(path)函数，返回path路径下所有文件的名字，以及文件夹的名字，\n",
    "#例如，执行下行代码后，img_list是一个list，值为['0.jpg','1.jpg','10.jpg','11.jpg','12.jpg','13.jpg','14.jpg',\n",
    "#'2.jpg','3.jpg','4.jg', '5.jpg', '6.jpg', '7.jpg', \n",
    "#'8.jpg', '9.jpg']\n",
    "img_list=os.listdir(\"val_moto\")\n",
    "ind=0\n",
    "for i in img_list:\n",
    "#调用cv2.imread读入图片，读入格式为IMREAD_COLOR'''\n",
    "    img_array=cv2.imread(os.path.join(path,i),cv2.IMREAD_COLOR)\n",
    "    #'''调用cv2.resize函数resize图片'''\n",
    "    new_array=cv2.resize(img_array,(32,32))\n",
    "    img_name=str(ind)+'.jpg'\n",
    "    #'''生成图片存储的目标路径'''\n",
    "    save_path=str(ind)+'.jpg'\n",
    "    ind=ind+1\n",
    "    #'''调用cv.2的imwrite函数保存图片'''\n",
    "    cv2.imwrite(save_path,new_array)"
   ]
  },
  {
   "cell_type": "code",
   "execution_count": null,
   "metadata": {},
   "outputs": [],
   "source": []
  }
 ],
 "metadata": {
  "kernelspec": {
   "display_name": "Python 3.6 (tensorflow)",
   "language": "python",
   "name": "tensorflow"
  },
  "language_info": {
   "codemirror_mode": {
    "name": "ipython",
    "version": 3
   },
   "file_extension": ".py",
   "mimetype": "text/x-python",
   "name": "python",
   "nbconvert_exporter": "python",
   "pygments_lexer": "ipython3",
   "version": "3.6.8"
  }
 },
 "nbformat": 4,
 "nbformat_minor": 2
}
